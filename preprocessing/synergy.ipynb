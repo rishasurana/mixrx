{
 "cells": [
  {
   "cell_type": "code",
   "execution_count": 4,
   "metadata": {},
   "outputs": [],
   "source": [
    "import pandas as pd\n",
    "from itertools import combinations as comb\n",
    "import csv\n",
    "\n",
    "def fetch_synergies_from_file(drug_ids, csv_file_path=\"drug_data.csv\"):\n",
    "    \"\"\"Fetch and return synergy scores for analysis from a CSV file.\"\"\"\n",
    "    synergy_results = {}\n",
    "    drug_data = pd.read_csv(csv_file_path)\n",
    "\n",
    "    pairs = comb(drug_ids, 2)  # Generate all unique pairs from the given drug IDs\n",
    "\n",
    "    for id1, id2 in pairs:\n",
    "        # Find the combination in the dataframe\n",
    "        row = drug_data[(drug_data['idDrugA'].isin([id1, id2])) & (drug_data['idDrugB'].isin([id1, id2]))]\n",
    "        if not row.empty:\n",
    "            scores = {\n",
    "                'bliss': row.iloc[0]['bliss'],\n",
    "                'zip': row.iloc[0]['zip'],\n",
    "                'loewe': row.iloc[0]['loewe'],\n",
    "                'hsa': row.iloc[0]['hsa']\n",
    "            }\n",
    "        else:\n",
    "            scores = \"Combination Data Not Found\"\n",
    "        \n",
    "        synergy_results[(id1, id2)] = scores\n",
    "\n",
    "    return synergy_results\n",
    "\n",
    "import numpy as np\n",
    "\n",
    "def analyze_combination_synergy(synergy_data):\n",
    "    \"\"\"Analyze synergy focusing on Loewe scores, with immediate checks for ZIP and HSA.\"\"\"\n",
    "    overall_synergy_responses = {}\n",
    "    any_significant_antagonism = False\n",
    "    any_significant_synergy = False\n",
    "\n",
    "    for pair, scores in synergy_data.items():\n",
    "        loewe = scores['loewe']\n",
    "        zip_score = scores['zip']\n",
    "        hsa = scores['hsa']\n",
    "        \n",
    "        # Immediate check for significant antagonism based on ZIP\n",
    "        if zip_score < 0.05:  # Example threshold for significant ZIP score indicating strong antagonism\n",
    "            any_significant_antagonism = True\n",
    "            break  # Exit the loop early if any pair is significantly antagonistic\n",
    "        \n",
    "        # Check for very high HSA indicating strong synergy\n",
    "        if hsa > 20:  # Example threshold for HSA indicating strong synergy\n",
    "            any_significant_synergy = True\n",
    "\n",
    "        # Evaluate Loewe score for synergy or antagonism\n",
    "        if loewe > 0:\n",
    "            overall_synergy_responses[pair] = \"Antagonistic\"\n",
    "        elif loewe < 0:\n",
    "            overall_synergy_responses[pair] = \"Synergistic\"\n",
    "        # Additive effects (Loewe = 1) do not directly imply synergy or antagonism\n",
    "\n",
    "    # Final overall synergy evaluation\n",
    "    if any_significant_antagonism:\n",
    "        overall_result = \"Antagonistic\"\n",
    "    elif any_significant_synergy and not any_significant_antagonism:\n",
    "        overall_result = \"Synergistic\"\n",
    "    else:\n",
    "        # If no significant synergy or antagonism, defer to the balance of Loewe scores\n",
    "        overall_result = \"Synergistic\" if all(response == \"Synergistic\" for response in overall_synergy_responses.values()) else \"Antagonistic\"\n",
    "\n",
    "    return overall_result\n",
    "\n",
    "\n",
    "def save_overall_responses_to_csv(overall_responses, output_csv_path):\n",
    "    \"\"\"Save the overall synergy responses of drug combinations to a CSV file.\"\"\"\n",
    "    with open(output_csv_path, mode='w', newline='') as file:\n",
    "        writer = csv.writer(file)\n",
    "        writer.writerow([\"Drug Combination\", \"Overall Synergy Response\"])\n",
    "        for combination, response in overall_responses.items():\n",
    "            writer.writerow([', '.join(map(str, combination)), response])\n",
    "\n",
    "def read_drug_combinations(input_file_path):\n",
    "    \"\"\"Read drug combinations from a CSV file.\"\"\"\n",
    "    combinations = []\n",
    "    with open(input_file_path, mode='r', newline='') as file:\n",
    "        reader = csv.DictReader(file)\n",
    "        for row in reader:\n",
    "            # Convert the string of drug IDs into a list of integers\n",
    "            drug_ids = [int(id.strip()) for id in row['Drug Combination'].split(',')]\n",
    "            combinations.append(drug_ids)\n",
    "    return combinations\n"
   ]
  },
  {
   "cell_type": "code",
   "execution_count": 5,
   "metadata": {},
   "outputs": [
    {
     "name": "stdout",
     "output_type": "stream",
     "text": [
      "[[52, 45], [27, 69], [76, 106], [68, 102, 2], [102, 45], [31, 1, 45], [102, 1, 11], [74, 52], [2, 75], [65, 107], [63, 24], [33, 52], [106, 74, 65], [63, 52], [33, 2, 53], [2, 44], [97, 332, 88], [102, 65], [44, 105, 88], [14, 68, 52], [87, 52], [84, 88, 69], [33, 332, 1], [11, 97, 102], [103, 72], [92, 62], [84, 68], [24, 105, 69], [20, 34, 92], [1, 24], [103, 88, 44], [72, 36, 2], [332, 33, 88], [24, 76, 69], [74, 68, 84], [105, 24, 102], [63, 92, 52], [87, 1], [88, 36, 1], [20, 84], [45, 102, 1], [36, 106, 44], [76, 44, 1], [27, 69, 44], [11, 44, 1], [90, 1], [68, 36], [24, 75, 88], [68, 2, 45], [52, 68], [27, 44, 74], [65, 73, 52], [24, 88, 105], [72, 92, 33], [53, 1], [92, 106], [62, 92], [11, 332], [27, 34, 74], [103, 44], [69, 107, 33], [75, 24, 69], [97, 102, 69], [14, 52, 68], [90, 105, 1], [45, 2], [107, 33], [107, 69, 76], [44, 103, 2], [90, 65], [74, 36], [65, 68, 52], [52, 20], [103, 106], [14, 1, 52], [44, 33, 2], [62, 69, 1], [65, 102, 68], [62, 73], [84, 45, 69], [92, 105], [20, 92], [53, 62, 1], [106, 36, 92], [53, 75, 52], [24, 1, 69], [24, 105, 69], [75, 332, 88], [33, 69, 44], [74, 332], [65, 68, 2], [65, 106, 74], [11, 75], [24, 102], [44, 20], [31, 105], [107, 69, 1], [84, 68, 45], [2, 63], [45, 2, 52], [107, 103], [75, 44, 69], [34, 92, 63], [107, 75], [87, 72, 1], [107, 1, 2], [74, 102, 1], [44, 76, 69], [76, 34], [14, 34, 92], [41, 34], [107, 76, 2], [72, 2, 33], [105, 44, 1], [73, 75, 69], [44, 88, 11], [2, 105], [34, 103, 90], [68, 36, 52], [2, 63, 52], [87, 72], [76, 90, 88], [75, 68], [106, 65, 88], [14, 34, 92], [27, 69], [52, 14], [103, 2], [62, 69], [14, 52], [33, 53, 1], [332, 97, 88], [1, 2, 44], [14, 68, 52], [69, 1], [107, 63, 1], [102, 97, 69], [53, 34], [20, 84], [102, 65, 74], [33, 107], [102, 74, 68], [63, 53], [27, 74, 1], [88, 33, 106], [63, 2, 88], [90, 63], [62, 92], [41, 1], [74, 68, 52], [87, 72, 1], [72, 36], [87, 52, 68], [65, 2, 102], [65, 1, 2], [27, 34], [105, 31], [44, 2, 75], [68, 74, 36], [31, 105, 1], [1, 36, 44], [31, 45, 1], [105, 102], [87, 1], [53, 103], [36, 44, 106], [52, 105, 2], [84, 74], [103, 90], [41, 1], [27, 1, 69], [97, 88, 69], [2, 103, 52], [87, 52], [68, 62], [69, 44], [74, 68, 102], [73, 52], [75, 68], [52, 53], [11, 75, 24], [45, 84, 68], [11, 24, 45], [75, 68], [1, 76, 52], [76, 1], [44, 103], [27, 44, 69], [65, 34], [44, 76], [62, 1, 69], [72, 36, 69], [44, 11, 88], [34, 53], [92, 52, 76], [53, 36, 102], [332, 45, 88], [36, 34, 2], [34, 53, 33], [76, 92], [14, 34], [34, 33], [73, 69, 75], [332, 33], [332, 33], [14, 1], [84, 107], [63, 88, 1], [88, 34], [65, 1], [44, 75], [102, 105], [65, 106], [103, 2], [102, 33, 2], [14, 68], [76, 92, 52], [52, 74], [73, 52, 65], [65, 90], [63, 11, 1], [52, 105, 53], [103, 1], [31, 33, 1], [87, 1], [34, 65], [24, 1, 45], [62, 73], [44, 76], [97, 102], [106, 74], [74, 52], [74, 1], [27, 34, 74], [41, 1], [87, 52, 68], [90, 92, 105], [68, 76, 2], [107, 1, 33], [36, 69], [63, 102], [45, 88], [44, 103, 1], [41, 34], [69, 1], [52, 76], [2, 45, 1], [106, 36, 92], [36, 90], [1, 103], [75, 73], [76, 332, 88], [102, 53, 76], [72, 76], [62, 73, 69], [11, 24], [44, 27, 69], [76, 53], [73, 74], [2, 34], [62, 73], [24, 11], [107, 103], [87, 1, 72], [88, 45, 68], [107, 1, 74], [36, 34], [75, 88, 24], [105, 1], [44, 88], [45, 88], [52, 103], [75, 68, 52], [97, 102, 74], [74, 73], [27, 1], [65, 72, 92], [36, 69], [74, 65, 102], [44, 106], [69, 33, 107], [88, 105, 69], [14, 68], [63, 72], [107, 65, 74], [332, 11], [2, 65, 107], [31, 45], [14, 1], [68, 75, 52], [33, 72, 69], [103, 72, 92], [45, 102], [107, 65], [24, 63], [65, 88, 34], [36, 34, 90], [69, 1, 33], [73, 52, 65], [87, 1, 72], [75, 106, 88], [20, 34, 92], [72, 102], [45, 72, 69], [34, 90, 92], [41, 34], [11, 75, 332], [53, 102, 76], [87, 68], [44, 11], [76, 107, 69], [87, 72, 1], [105, 34, 92], [74, 73], [76, 34], [52, 68, 75], [11, 44, 63], [65, 88, 34], [11, 102], [53, 45, 2], [97, 102], [72, 2], [62, 53], [74, 52, 68], [102, 103, 24], [73, 74], [97, 69], [36, 92], [72, 87, 1], [1, 65], [27, 34], [2, 65, 1], [92, 33], [53, 1, 36], [33, 44], [41, 1], [11, 1], [332, 88, 63], [44, 33], [24, 75], [332, 45, 1], [73, 75], [75, 68, 52], [52, 14], [103, 1], [63, 2], [105, 88], [107, 33, 2], [103, 107], [88, 69, 44], [74, 84, 68], [69, 73, 75], [90, 36, 34], [11, 1], [63, 52, 1], [31, 105, 1], [102, 1, 63], [27, 1], [24, 63, 88], [84, 45], [31, 11], [63, 1, 88], [45, 92], [92, 106], [73, 69, 75], [33, 69], [11, 102], [332, 1, 74], [27, 74, 1], [102, 72], [97, 102], [75, 88, 332], [76, 52, 68], [44, 33, 69], [332, 45, 88], [90, 92], [102, 1, 2], [74, 84, 107], [20, 34, 92], [74, 332, 1], [102, 74, 53], [72, 105, 1], [102, 11], [97, 102], [105, 34, 92], [72, 65], [14, 1], [52, 105, 1], [44, 20], [27, 1], [69, 36], [63, 332], [44, 36, 1], [107, 65, 74], [97, 74, 332], [87, 1], [34, 20], [14, 52], [20, 52, 92], [72, 76, 1], [1, 103, 92], [87, 1, 52], [44, 106], [14, 34, 92], [62, 73], [87, 68, 52], [2, 34], [75, 106, 44], [62, 69, 1], [34, 105], [33, 92, 90], [105, 69], [36, 92], [69, 102, 105], [68, 75], [68, 76, 2], [33, 106], [74, 107, 65], [103, 72, 92], [24, 105, 102], [62, 1, 92], [33, 90, 106], [97, 88], [27, 34], [52, 63], [2, 72, 45], [31, 33], [73, 65], [45, 88, 53], [14, 34, 92], [27, 44, 1], [107, 76, 69], [87, 72], [69, 62, 73], [88, 24], [34, 76], [103, 72], [103, 88], [44, 69], [68, 87], [75, 24], [103, 102], [45, 72, 92], [45, 31, 1], [107, 33, 2], [102, 11], [75, 53], [63, 88], [106, 36], [92, 76, 1], [31, 11, 45], [31, 1, 45], [11, 75], [31, 105, 1], [68, 88, 33], [69, 75], [103, 88, 24], [14, 1, 92], [332, 45], [36, 2, 53], [45, 332, 88], [2, 103, 53], [63, 1, 102], [53, 102], [31, 33, 1], [44, 45, 11], [14, 52], [1, 62], [11, 332, 1], [27, 34], [68, 76, 102], [14, 52, 1], [107, 76, 1], [72, 33, 92], [107, 33, 1], [75, 73, 69], [103, 24], [63, 1, 53], [74, 53], [27, 69], [105, 2, 53], [74, 53], [65, 34, 2], [90, 34, 36], [65, 68], [332, 97], [63, 1]]\n"
     ]
    }
   ],
   "source": [
    "# Process\n",
    "input_file_path = \"valid_drug_combinations.csv\"  # Adjust this to your actual CSV file path\n",
    "output_csv_path = \"synergy_test_results.csv\"\n",
    "\n",
    "combinations = read_drug_combinations(input_file_path)\n",
    "print(combinations)\n",
    "overall_responses = {}"
   ]
  },
  {
   "cell_type": "code",
   "execution_count": 6,
   "metadata": {},
   "outputs": [
    {
     "name": "stdout",
     "output_type": "stream",
     "text": [
      "  Drug Combination Overall Synergy Response\n",
      "0           52, 45             Antagonistic\n",
      "1           27, 69              Synergistic\n",
      "2          76, 106             Antagonistic\n",
      "3       68, 102, 2             Antagonistic\n",
      "4          102, 45             Antagonistic\n"
     ]
    }
   ],
   "source": [
    "for combination in combinations:\n",
    "    pairwise_synergies = fetch_synergies_from_file(combination)\n",
    "    overall_response = analyze_combination_synergy(pairwise_synergies)\n",
    "    overall_responses[tuple(combination)] = overall_response\n",
    "\n",
    "save_overall_responses_to_csv(overall_responses, output_csv_path)\n",
    "\n",
    "#Optionally, load and print the DataFrame for review\n",
    "df = pd.read_csv(output_csv_path)\n",
    "print(df.head())"
   ]
  }
 ],
 "metadata": {
  "kernelspec": {
   "display_name": "Python 3",
   "language": "python",
   "name": "python3"
  },
  "language_info": {
   "codemirror_mode": {
    "name": "ipython",
    "version": 3
   },
   "file_extension": ".py",
   "mimetype": "text/x-python",
   "name": "python",
   "nbconvert_exporter": "python",
   "pygments_lexer": "ipython3",
   "version": "3.11.7"
  }
 },
 "nbformat": 4,
 "nbformat_minor": 2
}
