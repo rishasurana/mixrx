{
  "nbformat": 4,
  "nbformat_minor": 0,
  "metadata": {
    "colab": {
      "provenance": []
    },
    "kernelspec": {
      "name": "python3",
      "display_name": "Python 3"
    },
    "language_info": {
      "name": "python"
    },
    "widgets": {
      "application/vnd.jupyter.widget-state+json": {
        "d1eaaccdde3d4ae98267a02a10eb5745": {
          "model_module": "@jupyter-widgets/controls",
          "model_name": "HBoxModel",
          "model_module_version": "1.5.0",
          "state": {
            "_dom_classes": [],
            "_model_module": "@jupyter-widgets/controls",
            "_model_module_version": "1.5.0",
            "_model_name": "HBoxModel",
            "_view_count": null,
            "_view_module": "@jupyter-widgets/controls",
            "_view_module_version": "1.5.0",
            "_view_name": "HBoxView",
            "box_style": "",
            "children": [
              "IPY_MODEL_b4f061e8a2ad4172bafeef9137675f3a",
              "IPY_MODEL_a4bda9c9b4184272b4c223c315d2544d",
              "IPY_MODEL_f66a230d623e4a1891260e879c438ccc"
            ],
            "layout": "IPY_MODEL_09f18051fe6d4f0184d144714e4fc17f"
          }
        },
        "b4f061e8a2ad4172bafeef9137675f3a": {
          "model_module": "@jupyter-widgets/controls",
          "model_name": "HTMLModel",
          "model_module_version": "1.5.0",
          "state": {
            "_dom_classes": [],
            "_model_module": "@jupyter-widgets/controls",
            "_model_module_version": "1.5.0",
            "_model_name": "HTMLModel",
            "_view_count": null,
            "_view_module": "@jupyter-widgets/controls",
            "_view_module_version": "1.5.0",
            "_view_name": "HTMLView",
            "description": "",
            "description_tooltip": null,
            "layout": "IPY_MODEL_99e637152d8f4901a333dd53f89a1130",
            "placeholder": "​",
            "style": "IPY_MODEL_cedf5959a3e44921916e4240ad13364b",
            "value": "Map: 100%"
          }
        },
        "a4bda9c9b4184272b4c223c315d2544d": {
          "model_module": "@jupyter-widgets/controls",
          "model_name": "FloatProgressModel",
          "model_module_version": "1.5.0",
          "state": {
            "_dom_classes": [],
            "_model_module": "@jupyter-widgets/controls",
            "_model_module_version": "1.5.0",
            "_model_name": "FloatProgressModel",
            "_view_count": null,
            "_view_module": "@jupyter-widgets/controls",
            "_view_module_version": "1.5.0",
            "_view_name": "ProgressView",
            "bar_style": "success",
            "description": "",
            "description_tooltip": null,
            "layout": "IPY_MODEL_adf2d4c02cf44003b3d2167d48d9e39f",
            "max": 10000,
            "min": 0,
            "orientation": "horizontal",
            "style": "IPY_MODEL_bc2a977afe534d55b760950b1a2a5fe6",
            "value": 10000
          }
        },
        "f66a230d623e4a1891260e879c438ccc": {
          "model_module": "@jupyter-widgets/controls",
          "model_name": "HTMLModel",
          "model_module_version": "1.5.0",
          "state": {
            "_dom_classes": [],
            "_model_module": "@jupyter-widgets/controls",
            "_model_module_version": "1.5.0",
            "_model_name": "HTMLModel",
            "_view_count": null,
            "_view_module": "@jupyter-widgets/controls",
            "_view_module_version": "1.5.0",
            "_view_name": "HTMLView",
            "description": "",
            "description_tooltip": null,
            "layout": "IPY_MODEL_92a29b7e24e84e94a98e6ac1687100b5",
            "placeholder": "​",
            "style": "IPY_MODEL_ecb1cc1635904d0780e3929e076f2479",
            "value": " 10000/10000 [01:00&lt;00:00, 226.82 examples/s]"
          }
        },
        "09f18051fe6d4f0184d144714e4fc17f": {
          "model_module": "@jupyter-widgets/base",
          "model_name": "LayoutModel",
          "model_module_version": "1.2.0",
          "state": {
            "_model_module": "@jupyter-widgets/base",
            "_model_module_version": "1.2.0",
            "_model_name": "LayoutModel",
            "_view_count": null,
            "_view_module": "@jupyter-widgets/base",
            "_view_module_version": "1.2.0",
            "_view_name": "LayoutView",
            "align_content": null,
            "align_items": null,
            "align_self": null,
            "border": null,
            "bottom": null,
            "display": null,
            "flex": null,
            "flex_flow": null,
            "grid_area": null,
            "grid_auto_columns": null,
            "grid_auto_flow": null,
            "grid_auto_rows": null,
            "grid_column": null,
            "grid_gap": null,
            "grid_row": null,
            "grid_template_areas": null,
            "grid_template_columns": null,
            "grid_template_rows": null,
            "height": null,
            "justify_content": null,
            "justify_items": null,
            "left": null,
            "margin": null,
            "max_height": null,
            "max_width": null,
            "min_height": null,
            "min_width": null,
            "object_fit": null,
            "object_position": null,
            "order": null,
            "overflow": null,
            "overflow_x": null,
            "overflow_y": null,
            "padding": null,
            "right": null,
            "top": null,
            "visibility": null,
            "width": null
          }
        },
        "99e637152d8f4901a333dd53f89a1130": {
          "model_module": "@jupyter-widgets/base",
          "model_name": "LayoutModel",
          "model_module_version": "1.2.0",
          "state": {
            "_model_module": "@jupyter-widgets/base",
            "_model_module_version": "1.2.0",
            "_model_name": "LayoutModel",
            "_view_count": null,
            "_view_module": "@jupyter-widgets/base",
            "_view_module_version": "1.2.0",
            "_view_name": "LayoutView",
            "align_content": null,
            "align_items": null,
            "align_self": null,
            "border": null,
            "bottom": null,
            "display": null,
            "flex": null,
            "flex_flow": null,
            "grid_area": null,
            "grid_auto_columns": null,
            "grid_auto_flow": null,
            "grid_auto_rows": null,
            "grid_column": null,
            "grid_gap": null,
            "grid_row": null,
            "grid_template_areas": null,
            "grid_template_columns": null,
            "grid_template_rows": null,
            "height": null,
            "justify_content": null,
            "justify_items": null,
            "left": null,
            "margin": null,
            "max_height": null,
            "max_width": null,
            "min_height": null,
            "min_width": null,
            "object_fit": null,
            "object_position": null,
            "order": null,
            "overflow": null,
            "overflow_x": null,
            "overflow_y": null,
            "padding": null,
            "right": null,
            "top": null,
            "visibility": null,
            "width": null
          }
        },
        "cedf5959a3e44921916e4240ad13364b": {
          "model_module": "@jupyter-widgets/controls",
          "model_name": "DescriptionStyleModel",
          "model_module_version": "1.5.0",
          "state": {
            "_model_module": "@jupyter-widgets/controls",
            "_model_module_version": "1.5.0",
            "_model_name": "DescriptionStyleModel",
            "_view_count": null,
            "_view_module": "@jupyter-widgets/base",
            "_view_module_version": "1.2.0",
            "_view_name": "StyleView",
            "description_width": ""
          }
        },
        "adf2d4c02cf44003b3d2167d48d9e39f": {
          "model_module": "@jupyter-widgets/base",
          "model_name": "LayoutModel",
          "model_module_version": "1.2.0",
          "state": {
            "_model_module": "@jupyter-widgets/base",
            "_model_module_version": "1.2.0",
            "_model_name": "LayoutModel",
            "_view_count": null,
            "_view_module": "@jupyter-widgets/base",
            "_view_module_version": "1.2.0",
            "_view_name": "LayoutView",
            "align_content": null,
            "align_items": null,
            "align_self": null,
            "border": null,
            "bottom": null,
            "display": null,
            "flex": null,
            "flex_flow": null,
            "grid_area": null,
            "grid_auto_columns": null,
            "grid_auto_flow": null,
            "grid_auto_rows": null,
            "grid_column": null,
            "grid_gap": null,
            "grid_row": null,
            "grid_template_areas": null,
            "grid_template_columns": null,
            "grid_template_rows": null,
            "height": null,
            "justify_content": null,
            "justify_items": null,
            "left": null,
            "margin": null,
            "max_height": null,
            "max_width": null,
            "min_height": null,
            "min_width": null,
            "object_fit": null,
            "object_position": null,
            "order": null,
            "overflow": null,
            "overflow_x": null,
            "overflow_y": null,
            "padding": null,
            "right": null,
            "top": null,
            "visibility": null,
            "width": null
          }
        },
        "bc2a977afe534d55b760950b1a2a5fe6": {
          "model_module": "@jupyter-widgets/controls",
          "model_name": "ProgressStyleModel",
          "model_module_version": "1.5.0",
          "state": {
            "_model_module": "@jupyter-widgets/controls",
            "_model_module_version": "1.5.0",
            "_model_name": "ProgressStyleModel",
            "_view_count": null,
            "_view_module": "@jupyter-widgets/base",
            "_view_module_version": "1.2.0",
            "_view_name": "StyleView",
            "bar_color": null,
            "description_width": ""
          }
        },
        "92a29b7e24e84e94a98e6ac1687100b5": {
          "model_module": "@jupyter-widgets/base",
          "model_name": "LayoutModel",
          "model_module_version": "1.2.0",
          "state": {
            "_model_module": "@jupyter-widgets/base",
            "_model_module_version": "1.2.0",
            "_model_name": "LayoutModel",
            "_view_count": null,
            "_view_module": "@jupyter-widgets/base",
            "_view_module_version": "1.2.0",
            "_view_name": "LayoutView",
            "align_content": null,
            "align_items": null,
            "align_self": null,
            "border": null,
            "bottom": null,
            "display": null,
            "flex": null,
            "flex_flow": null,
            "grid_area": null,
            "grid_auto_columns": null,
            "grid_auto_flow": null,
            "grid_auto_rows": null,
            "grid_column": null,
            "grid_gap": null,
            "grid_row": null,
            "grid_template_areas": null,
            "grid_template_columns": null,
            "grid_template_rows": null,
            "height": null,
            "justify_content": null,
            "justify_items": null,
            "left": null,
            "margin": null,
            "max_height": null,
            "max_width": null,
            "min_height": null,
            "min_width": null,
            "object_fit": null,
            "object_position": null,
            "order": null,
            "overflow": null,
            "overflow_x": null,
            "overflow_y": null,
            "padding": null,
            "right": null,
            "top": null,
            "visibility": null,
            "width": null
          }
        },
        "ecb1cc1635904d0780e3929e076f2479": {
          "model_module": "@jupyter-widgets/controls",
          "model_name": "DescriptionStyleModel",
          "model_module_version": "1.5.0",
          "state": {
            "_model_module": "@jupyter-widgets/controls",
            "_model_module_version": "1.5.0",
            "_model_name": "DescriptionStyleModel",
            "_view_count": null,
            "_view_module": "@jupyter-widgets/base",
            "_view_module_version": "1.2.0",
            "_view_name": "StyleView",
            "description_width": ""
          }
        }
      }
    }
  },
  "cells": [
    {
      "cell_type": "code",
      "source": [
        "!pip install datasets\n",
        "!pip install transformers[torch]"
      ],
      "metadata": {
        "colab": {
          "base_uri": "https://localhost:8080/"
        },
        "id": "ftooCQkGMUTQ",
        "outputId": "15c9f3ee-b637-4a07-e7f2-93cc56dc2bea"
      },
      "execution_count": null,
      "outputs": [
        {
          "output_type": "stream",
          "name": "stdout",
          "text": [
            "Requirement already satisfied: datasets in /usr/local/lib/python3.10/dist-packages (2.18.0)\n",
            "Requirement already satisfied: filelock in /usr/local/lib/python3.10/dist-packages (from datasets) (3.13.1)\n",
            "Requirement already satisfied: numpy>=1.17 in /usr/local/lib/python3.10/dist-packages (from datasets) (1.25.2)\n",
            "Requirement already satisfied: pyarrow>=12.0.0 in /usr/local/lib/python3.10/dist-packages (from datasets) (14.0.2)\n",
            "Requirement already satisfied: pyarrow-hotfix in /usr/local/lib/python3.10/dist-packages (from datasets) (0.6)\n",
            "Requirement already satisfied: dill<0.3.9,>=0.3.0 in /usr/local/lib/python3.10/dist-packages (from datasets) (0.3.8)\n",
            "Requirement already satisfied: pandas in /usr/local/lib/python3.10/dist-packages (from datasets) (1.5.3)\n",
            "Requirement already satisfied: requests>=2.19.0 in /usr/local/lib/python3.10/dist-packages (from datasets) (2.31.0)\n",
            "Requirement already satisfied: tqdm>=4.62.1 in /usr/local/lib/python3.10/dist-packages (from datasets) (4.66.2)\n",
            "Requirement already satisfied: xxhash in /usr/local/lib/python3.10/dist-packages (from datasets) (3.4.1)\n",
            "Requirement already satisfied: multiprocess in /usr/local/lib/python3.10/dist-packages (from datasets) (0.70.16)\n",
            "Requirement already satisfied: fsspec[http]<=2024.2.0,>=2023.1.0 in /usr/local/lib/python3.10/dist-packages (from datasets) (2023.6.0)\n",
            "Requirement already satisfied: aiohttp in /usr/local/lib/python3.10/dist-packages (from datasets) (3.9.3)\n",
            "Requirement already satisfied: huggingface-hub>=0.19.4 in /usr/local/lib/python3.10/dist-packages (from datasets) (0.20.3)\n",
            "Requirement already satisfied: packaging in /usr/local/lib/python3.10/dist-packages (from datasets) (23.2)\n",
            "Requirement already satisfied: pyyaml>=5.1 in /usr/local/lib/python3.10/dist-packages (from datasets) (6.0.1)\n",
            "Requirement already satisfied: aiosignal>=1.1.2 in /usr/local/lib/python3.10/dist-packages (from aiohttp->datasets) (1.3.1)\n",
            "Requirement already satisfied: attrs>=17.3.0 in /usr/local/lib/python3.10/dist-packages (from aiohttp->datasets) (23.2.0)\n",
            "Requirement already satisfied: frozenlist>=1.1.1 in /usr/local/lib/python3.10/dist-packages (from aiohttp->datasets) (1.4.1)\n",
            "Requirement already satisfied: multidict<7.0,>=4.5 in /usr/local/lib/python3.10/dist-packages (from aiohttp->datasets) (6.0.5)\n",
            "Requirement already satisfied: yarl<2.0,>=1.0 in /usr/local/lib/python3.10/dist-packages (from aiohttp->datasets) (1.9.4)\n",
            "Requirement already satisfied: async-timeout<5.0,>=4.0 in /usr/local/lib/python3.10/dist-packages (from aiohttp->datasets) (4.0.3)\n",
            "Requirement already satisfied: typing-extensions>=3.7.4.3 in /usr/local/lib/python3.10/dist-packages (from huggingface-hub>=0.19.4->datasets) (4.10.0)\n",
            "Requirement already satisfied: charset-normalizer<4,>=2 in /usr/local/lib/python3.10/dist-packages (from requests>=2.19.0->datasets) (3.3.2)\n",
            "Requirement already satisfied: idna<4,>=2.5 in /usr/local/lib/python3.10/dist-packages (from requests>=2.19.0->datasets) (3.6)\n",
            "Requirement already satisfied: urllib3<3,>=1.21.1 in /usr/local/lib/python3.10/dist-packages (from requests>=2.19.0->datasets) (2.0.7)\n",
            "Requirement already satisfied: certifi>=2017.4.17 in /usr/local/lib/python3.10/dist-packages (from requests>=2.19.0->datasets) (2024.2.2)\n",
            "Requirement already satisfied: python-dateutil>=2.8.1 in /usr/local/lib/python3.10/dist-packages (from pandas->datasets) (2.8.2)\n",
            "Requirement already satisfied: pytz>=2020.1 in /usr/local/lib/python3.10/dist-packages (from pandas->datasets) (2023.4)\n",
            "Requirement already satisfied: six>=1.5 in /usr/local/lib/python3.10/dist-packages (from python-dateutil>=2.8.1->pandas->datasets) (1.16.0)\n",
            "Requirement already satisfied: transformers[torch] in /usr/local/lib/python3.10/dist-packages (4.38.1)\n",
            "Requirement already satisfied: filelock in /usr/local/lib/python3.10/dist-packages (from transformers[torch]) (3.13.1)\n",
            "Requirement already satisfied: huggingface-hub<1.0,>=0.19.3 in /usr/local/lib/python3.10/dist-packages (from transformers[torch]) (0.20.3)\n",
            "Requirement already satisfied: numpy>=1.17 in /usr/local/lib/python3.10/dist-packages (from transformers[torch]) (1.25.2)\n",
            "Requirement already satisfied: packaging>=20.0 in /usr/local/lib/python3.10/dist-packages (from transformers[torch]) (23.2)\n",
            "Requirement already satisfied: pyyaml>=5.1 in /usr/local/lib/python3.10/dist-packages (from transformers[torch]) (6.0.1)\n",
            "Requirement already satisfied: regex!=2019.12.17 in /usr/local/lib/python3.10/dist-packages (from transformers[torch]) (2023.12.25)\n",
            "Requirement already satisfied: requests in /usr/local/lib/python3.10/dist-packages (from transformers[torch]) (2.31.0)\n",
            "Requirement already satisfied: tokenizers<0.19,>=0.14 in /usr/local/lib/python3.10/dist-packages (from transformers[torch]) (0.15.2)\n",
            "Requirement already satisfied: safetensors>=0.4.1 in /usr/local/lib/python3.10/dist-packages (from transformers[torch]) (0.4.2)\n",
            "Requirement already satisfied: tqdm>=4.27 in /usr/local/lib/python3.10/dist-packages (from transformers[torch]) (4.66.2)\n",
            "Requirement already satisfied: torch in /usr/local/lib/python3.10/dist-packages (from transformers[torch]) (2.1.0+cu121)\n",
            "Requirement already satisfied: accelerate>=0.21.0 in /usr/local/lib/python3.10/dist-packages (from transformers[torch]) (0.27.2)\n",
            "Requirement already satisfied: psutil in /usr/local/lib/python3.10/dist-packages (from accelerate>=0.21.0->transformers[torch]) (5.9.5)\n",
            "Requirement already satisfied: fsspec>=2023.5.0 in /usr/local/lib/python3.10/dist-packages (from huggingface-hub<1.0,>=0.19.3->transformers[torch]) (2023.6.0)\n",
            "Requirement already satisfied: typing-extensions>=3.7.4.3 in /usr/local/lib/python3.10/dist-packages (from huggingface-hub<1.0,>=0.19.3->transformers[torch]) (4.10.0)\n",
            "Requirement already satisfied: sympy in /usr/local/lib/python3.10/dist-packages (from torch->transformers[torch]) (1.12)\n",
            "Requirement already satisfied: networkx in /usr/local/lib/python3.10/dist-packages (from torch->transformers[torch]) (3.2.1)\n",
            "Requirement already satisfied: jinja2 in /usr/local/lib/python3.10/dist-packages (from torch->transformers[torch]) (3.1.3)\n",
            "Requirement already satisfied: triton==2.1.0 in /usr/local/lib/python3.10/dist-packages (from torch->transformers[torch]) (2.1.0)\n",
            "Requirement already satisfied: charset-normalizer<4,>=2 in /usr/local/lib/python3.10/dist-packages (from requests->transformers[torch]) (3.3.2)\n",
            "Requirement already satisfied: idna<4,>=2.5 in /usr/local/lib/python3.10/dist-packages (from requests->transformers[torch]) (3.6)\n",
            "Requirement already satisfied: urllib3<3,>=1.21.1 in /usr/local/lib/python3.10/dist-packages (from requests->transformers[torch]) (2.0.7)\n",
            "Requirement already satisfied: certifi>=2017.4.17 in /usr/local/lib/python3.10/dist-packages (from requests->transformers[torch]) (2024.2.2)\n",
            "Requirement already satisfied: MarkupSafe>=2.0 in /usr/local/lib/python3.10/dist-packages (from jinja2->torch->transformers[torch]) (2.1.5)\n",
            "Requirement already satisfied: mpmath>=0.19 in /usr/local/lib/python3.10/dist-packages (from sympy->torch->transformers[torch]) (1.3.0)\n"
          ]
        }
      ]
    },
    {
      "cell_type": "code",
      "source": [
        "from transformers import GPT2Tokenizer, GPT2Model, GPT2LMHeadModel\n",
        "\n",
        "import torch\n",
        "import pandas as pd\n",
        "import json\n",
        "\n",
        "\n",
        "tokenizer = GPT2Tokenizer.from_pretrained('gpt2')\n",
        "tokenizer.pad_token = tokenizer.eos_token\n",
        "model = GPT2LMHeadModel.from_pretrained('gpt2')\n",
        "\n",
        "text = \"Replace me by any text you'd like.\", \"Hello\"\n",
        "encoded_input = tokenizer(text, return_tensors='pt', padding=True, padding_side='left')\n",
        "\n",
        "# output = model(**encoded_input)\n",
        "\n",
        "input_ids = encoded_input['input_ids']\n",
        "\n",
        "# Generate text response\n",
        "max_length = 50  # Maximum length of the generated response\n",
        "temperature = 0.7  # Temperature parameter for sampling\n",
        "top_k = 50  # Top-k sampling parameter\n",
        "top_p = 0.9  # Top-p sampling parameter\n",
        "\n",
        "# Generate text using the model\n",
        "output = model.generate(\n",
        "    input_ids,\n",
        "    max_length=max_length,\n",
        "    temperature=temperature,\n",
        "    top_k=top_k,\n",
        "    top_p=top_p,\n",
        "    pad_token_id=tokenizer.eos_token_id,\n",
        "    eos_token_id=tokenizer.eos_token_id,\n",
        "    do_sample=True,\n",
        "    num_return_sequences=1\n",
        ")\n",
        "\n",
        "# Decode the generated token IDs into text\n",
        "generated_text = tokenizer.decode(output[0], skip_special_tokens=True)\n",
        "\n",
        "print(\"Generated text:\", generated_text)"
      ],
      "metadata": {
        "colab": {
          "base_uri": "https://localhost:8080/"
        },
        "id": "OyBggVlYj0gY",
        "outputId": "75304c77-6b60-4fea-e1cd-cc0b560e9bea"
      },
      "execution_count": null,
      "outputs": [
        {
          "output_type": "stream",
          "name": "stderr",
          "text": [
            "Keyword arguments {'padding_side': 'left'} not recognized.\n",
            "Keyword arguments {'padding_side': 'left'} not recognized.\n",
            "A decoder-only architecture is being used, but right-padding was detected! For correct generation results, please set `padding_side='left'` when initializing the tokenizer.\n"
          ]
        },
        {
          "output_type": "stream",
          "name": "stdout",
          "text": [
            "Generated text: Replace me by any text you'd like. I can't promise that I'll get a reply, but I'm pretty sure I'll be able to. I'm not going to ask you to do anything for me, and I'll be fine\n"
          ]
        }
      ]
    },
    {
      "cell_type": "code",
      "source": [
        "from datasets import load_dataset, DatasetDict, load_from_disk, Dataset"
      ],
      "metadata": {
        "id": "YzOij-wQM36b"
      },
      "execution_count": null,
      "outputs": []
    },
    {
      "cell_type": "code",
      "source": [
        "# Create prompt tensors from prompts_contexts.csv file.\n",
        "\n",
        "# Read the CSV file into a pandas DataFrame\n",
        "prompts_contexts = '../preprocessing/updated_prompts_contexts.csv'\n",
        "# prompts_contexts = '/content/drive/MyDrive/CSCI499 Natural Language Processing/preprocessing/updated_prompts_contexts.csv'\n",
        "df = pd.read_csv(prompts_contexts)\n",
        "dataset = Dataset.from_pandas(df)\n",
        "\n",
        "def create_mult_seq(example):\n",
        "    sentences = []\n",
        "    # Concatenate sentences from all fields\n",
        "    for column, value in example.items():\n",
        "        sentences.extend(value.split('.'))  # Split sentences based on '. ' delimiter\n",
        "\n",
        "    example['Sequences'] = sentences\n",
        "    tokens = tokenizer(example['Sequences'])\n",
        "    examples['input_ids'] = tokens['input_ids']\n",
        "    # examples['mask???'] = tokens['mask???']\n",
        "    return example\n",
        "\n",
        "def tokenize(example):\n",
        "  example = tokenizer(example['Prompt'], example['Context'], example['Updated Context'], truncation=True, padding=True, return_tensors=\"pt\")\n",
        "  return example\n",
        "\n",
        "tokenized_dataset = dataset.map(tokenize, batched=True)\n",
        "\n",
        "tokenized_dataset = tokenized_dataset.remove_columns(['Prompt', 'Context', 'Updated Context', 'labels'])\n",
        "print(tokenized_dataset)\n",
        "\n",
        "# Split the dataset into train/test/valid (80/10/10)\n",
        "train_test_ds = tokenized_dataset.train_test_split(test_size=.2)\n",
        "test_valid_ds = train_test_ds['test'].train_test_split(test_size=.5)\n",
        "\n",
        "ds = DatasetDict({\n",
        "    'train': train_test_ds['train'],\n",
        "    'test': test_valid_ds['test'],\n",
        "    'valid': test_valid_ds['train']})"
      ],
      "metadata": {
        "colab": {
          "base_uri": "https://localhost:8080/",
          "height": 120,
          "referenced_widgets": [
            "d1eaaccdde3d4ae98267a02a10eb5745",
            "b4f061e8a2ad4172bafeef9137675f3a",
            "a4bda9c9b4184272b4c223c315d2544d",
            "f66a230d623e4a1891260e879c438ccc",
            "09f18051fe6d4f0184d144714e4fc17f",
            "99e637152d8f4901a333dd53f89a1130",
            "cedf5959a3e44921916e4240ad13364b",
            "adf2d4c02cf44003b3d2167d48d9e39f",
            "bc2a977afe534d55b760950b1a2a5fe6",
            "92a29b7e24e84e94a98e6ac1687100b5",
            "ecb1cc1635904d0780e3929e076f2479"
          ]
        },
        "id": "UgyyP_T0DhIi",
        "outputId": "cbfed3b9-90cc-424e-83d0-3fbaac3bad2b"
      },
      "execution_count": null,
      "outputs": [
        {
          "output_type": "display_data",
          "data": {
            "text/plain": [
              "Map:   0%|          | 0/10000 [00:00<?, ? examples/s]"
            ],
            "application/vnd.jupyter.widget-view+json": {
              "version_major": 2,
              "version_minor": 0,
              "model_id": "d1eaaccdde3d4ae98267a02a10eb5745"
            }
          },
          "metadata": {}
        },
        {
          "output_type": "stream",
          "name": "stdout",
          "text": [
            "Dataset({\n",
            "    features: ['input_ids', 'attention_mask'],\n",
            "    num_rows: 10000\n",
            "})\n"
          ]
        }
      ]
    },
    {
      "cell_type": "code",
      "source": [
        "from transformers import DataCollatorWithPadding\n",
        "from transformers import TrainingArguments\n",
        "from torch.utils.data import DataLoader\n",
        "\n",
        "data_collator = DataCollatorWithPadding(tokenizer=tokenizer, padding=True)\n",
        "\n",
        "train_dataloader = DataLoader(\n",
        "    ds[\"train\"], shuffle=True, batch_size=8, collate_fn=data_collator\n",
        ")\n",
        "eval_dataloader = DataLoader(\n",
        "    ds[\"valid\"], batch_size=8, collate_fn=data_collator\n",
        ")\n",
        "\n",
        "\n",
        "# Generate text response\n",
        "max_length = 600  # Maximum length of the generated response\n",
        "temperature = 0.7  # Temperature parameter for sampling\n",
        "top_k = 50  # Top-k sampling parameter\n",
        "top_p = 0.9  # Top-p sampling parameter\n",
        "\n",
        "num_epochs = 1\n",
        "for epoch in range(num_epochs):\n",
        "    for batch in train_dataloader:\n",
        "        batch = {k: v for k, v in batch.items()}\n",
        "\n",
        "        # Generate text using the model\n",
        "        output = model.generate(\n",
        "            # input_ids,\n",
        "            **batch,\n",
        "            max_length=max_length,\n",
        "            temperature=temperature,\n",
        "            top_k=top_k,\n",
        "            top_p=top_p,\n",
        "            pad_token_id=tokenizer.eos_token_id,\n",
        "            eos_token_id=tokenizer.eos_token_id,\n",
        "            do_sample=True,\n",
        "            num_return_sequences=1\n",
        "        )\n",
        "\n",
        "        # Decode the generated token IDs into text\n",
        "        generated_text = tokenizer.batch_decode(output, skip_special_tokens=True)\n",
        "\n",
        "        [print(\"Generated text:\", text) for text in generated_text]\n",
        "    break"
      ],
      "metadata": {
        "colab": {
          "base_uri": "https://localhost:8080/"
        },
        "id": "4WeABULaTNPL",
        "outputId": "748cb90c-8b2e-41b4-acfc-4e43665ecec8"
      },
      "execution_count": null,
      "outputs": [
        {
          "output_type": "stream",
          "name": "stderr",
          "text": [
            "A decoder-only architecture is being used, but right-padding was detected! For correct generation results, please set `padding_side='left'` when initializing the tokenizer.\n"
          ]
        },
        {
          "output_type": "stream",
          "name": "stdout",
          "text": [
            "Generated text: Given the following set of drugs, decide if the synergy of the drug combination is synergistic or antagonistic: Gemcitabine, PictilisibPictilisib and Gemcitabine have a Loewe score of: -0.1477, HSA score of: -0.5063, and ZIP score of: -0.6687.The results of this study indicate that the synergistic effect of the drug combination is achieved only when the combination of Gemcitabine, Pictilisib and Pictilisib is combined with a drug that has a Loewe score of: -0.1477, HSA score of: -0.5063, and ZIP score of: -0\n",
            "Generated text: Given the following set of drugs, decide if the synergy of the drug combination is synergistic or antagonistic: Trametinib, Alvespimycin, Dasatinib, Pemetrexed, GSK2334470Alvespimycin and GSK2334470 have a Loewe score of: -0.3629, HSA score of: -0.3789, and ZIP score of: -0.7793. GSK2334470 and Pemetrexed have a Loewe score of: -0.1537, HSA score of: -0.2081, and ZIP score of: -0.8464. Dasatinib and GSK2334470 have a Loewe score of: -0.379, HSA score of: -0.3944, and ZIP score of: -0.8608. Trametinib and GSK2334470 have a Loewe score of: -0.4428, HSA score of: -0.4357, and ZIP score of: -0.9044. Alvespimycin and Pemetrexed have a Loewe score of: -0.1934, HSA score of: -0.2221, and ZIP score of: -0.7704. Alvespimycin and Dasatinib have a Loewe score of: -0.0415, HSA score of: -0.1641, and ZIP score of: -0.76. Alvespimycin and Trametinib have a Loewe score of: -0.187, HSA score of: -0.2313, and ZIP score of: -0.7286. Dasatinib and Pemetrexed have a Loewe score of: -0.1428, HSA score of: -0.2247, and ZIP score of: -0.8374. Trametinib and Pemetrexed have a Loewe score of: -0.2832, HSA score of: -0.37, and ZIP score of: -0.7706. Dasatinib and Trametinib have a Loewe score of: -0.2339, HSA score of: -0.3408, and ZIP score of: -0.8124.The effect size of the drug combination is as follows: -0.11. The dose range for the combination is as follows: -0.2. The dose range for the combination is as follows: -0.24. The dose range for the combination is as follows: -0.32. The dose range for the combination is as follows: -0.\n",
            "Generated text: Given the following set of drugs, decide if the synergy of the drug combination is synergistic or antagonistic: Zocor, CREBi1, Thapsigargin, VenetoclaxCREBi1 and Thapsigargin have a Loewe score of: -0.0798, HSA score of: -0.0798, and ZIP score of: -0.99. Venetoclax and CREBi1 have a Loewe score of: -0.0095, HSA score of: -0.0095, and ZIP score of: -0.9722. CREBi1 and Zocor have a Loewe score of: -0.2099, HSA score of: -0.2093, and ZIP score of: -0.9865. Venetoclax and Thapsigargin have a Loewe score of: -0.0433, HSA score of: -0.0433, and ZIP score of: -0.9855. Zocor and Thapsigargin have a Loewe score of: -0.426, HSA score of: -0.4258, and ZIP score of: -0.9865. Venetoclax and Zocor have a Loewe score of: -0.0424, HSA score of: -0.042, and ZIP score of: -0.9829.\"\n",
            "\n",
            "\"It is not clear why, if the drug combination has a higher HSA score than the drug combination alone, it is not a synergistic drug. It is a low-dose combination of two drugs and the drug combination does not have a synergistic effect on the liver. The combination of two drugs is a low-dose combination and the drug combination\n",
            "Generated text: Given the following set of drugs, decide if the synergy of the drug combination is synergistic or antagonistic: Sepantronium Bromide, Afatinib, Paclitaxel, Dasatinib, CrizotinibPaclitaxel and Sepantronium Bromide have a Loewe score of: -0.4056, HSA score of: -0.5767, and ZIP score of: -0.7755. Crizotinib and Paclitaxel have a Loewe score of: -0.5166, HSA score of: -0.5219, and ZIP score of: -0.8881. Dasatinib and Paclitaxel have a Loewe score of: -0.2062, HSA score of: -0.2998, and ZIP score of: -0.8143. Afatinib and Paclitaxel have a Loewe score of: -0.3952, HSA score of: -0.4096, and ZIP score of: -0.8605. Crizotinib and Sepantronium Bromide have a Loewe score of: -0.1982, HSA score of: -0.1982, and ZIP score of: -0.881. Dasatinib and Sepantronium Bromide have a Loewe score of: -0.3524, HSA score of: -0.4862, and ZIP score of: -0.7148. Afatinib and Sepantronium Bromide have a Loewe score of: -0.3327, HSA score of: -0.3665, and ZIP score of: -0.8363. Crizotinib and Dasatinib have a Loewe score of: -0.4206, HSA score of: -0.4798, and ZIP score of: -0.8522. Afatinib and Crizotinib have a Loewe score of: -0.2536, HSA score of: -0.2615, and ZIP score of: -0.9603. Afatinib and Dasatinib have a Loewe score of: -0.1475, HSA score of: -0.1181, and ZIP score of: -0.8891.A third set of drugs, decide if the synergy of the drug combination is synergistic or antagonistic: Sepantronium Bromide, AgonistinibPaclitaxel, Glucopyride, Adopamine, Dopamine, and Amorphin have a Loewe score of: -0.5541, HSA score of\n",
            "Generated text: Given the following set of drugs, decide if the synergy of the drug combination is synergistic or antagonistic: SB-225002, GSK2334470, Alisertib, PictilisibGSK2334470 and SB-225002 have a Loewe score of: -0.6048, HSA score of: -0.602, and ZIP score of: -0.8277. GSK2334470 and Alisertib have a Loewe score of: -0.3067, HSA score of: -0.3968, and ZIP score of: -0.8502. Pictilisib and GSK2334470 have a Loewe score of: -0.4657, HSA score of: -0.4583, and ZIP score of: -0.9069. Alisertib and SB-225002 have a Loewe score of: -0.3145, HSA score of: -0.4126, and ZIP score of: -0.8399. Pictilisib and SB-225002 have a Loewe score of: -0.3227, HSA score of: -0.4443, and ZIP score of: -0.8095. Pictilisib and Alisertib have a Loewe score of: -0.2094, HSA score of: -0.3722, and ZIP score of: -0.8025.The total of the three drugs is: SB-225002, GSK2334470, Alisertib, PictilisibGSK2334470 and SB-225002 have a Loewe score of: 0.5527, HSA score of: 0.4273, and ZIP score of: -0.8177. GSK\n",
            "Generated text: Given the following set of drugs, decide if the synergy of the drug combination is synergistic or antagonistic: Oligomycins, VenetoclaxVenetoclax and Oligomycins have a Loewe score of: -0.2503, HSA score of: -0.2503, and ZIP score of: -0.9434.I have shown that the Oligomycins are synergistic, and that Oligomycins have a Loewe score of: -0.24, HSA score of: -0.24, and ZIP score of: -0.9174.\n",
            "\n",
            "We can use the following equation to calculate the synergistic effect of the drug combination:\n",
            "Generated text: Given the following set of drugs, decide if the synergy of the drug combination is synergistic or antagonistic: Sepantronium Bromide, AZD-7762, Oligomycins, SN 38 LactoneOligomycins and SN 38 Lactone have a Loewe score of: -0.285, HSA score of: -0.2864, and ZIP score of: -0.7615. AZD-7762 and SN 38 Lactone have a Loewe score of: -0.2088, HSA score of: -0.21, and ZIP score of: -0.6888. SN 38 Lactone and Sepantronium Bromide have a Loewe score of: -0.3381, HSA score of: -0.5607, and ZIP score of: -0.6161. AZD-7762 and Oligomycins have a Loewe score of: -0.5381, HSA score of: -0.5435, and ZIP score of: -0.7407. Oligomycins and Sepantronium Bromide have a Loewe score of: -0.4812, HSA score of: -0.5122, and ZIP score of: -0.8381. AZD-7762 and Sepantronium Bromide have a Loewe score of: 0.066, HSA score of: -0.44, and ZIP score of:.If the synergy of the drug combination is synergistic or antagonistic: Sepantronium Bromide, AZD-7762, Oligomycins, SN 38 LactoneOligomycins and SN 38 Lactone have a Loewe score of: 0.066, HSA score of: -0.44, and ZIP\n",
            "Generated text: Given the following set of drugs, decide if the synergy of the drug combination is synergistic or antagonistic: Crizotinib, Oligomycins, PF-431396Oligomycins and PF-431396 have a Loewe score of: -0.4986, HSA score of: -0.5439, and ZIP score of: -0.8384. Oligomycins and PF-431396 have a Loewe score of: -0.4986, HSA score of: -0.5439, and ZIP score of: -0.8384. Crizotinib and PF-431396 have a Loewe score of: -0.502, HSA score of: -0.502, and ZIP score of: -0.8852. Oligomycins and Oligomycins have a Loewe score of: -0.3748, HSA score of: -0.376, and ZIP score of: -0.9026. Crizotinib and Oligomycins have a Loewe score of: -0.4297, HSA score of: -0.4297, and ZIP score of: -0.9434. Crizotinib and Oligomycins have a Loewe score of: -0.4297, HSA score of: -0.4297, and ZIP score of: -0.9434.The combination of the drugs is considered synergistic by the researchers, while the drug combination is considered antagonistic by the researchers. The researchers conclude that the combination of the drugs is effective against the development of diabetes and is thus a promising treatment option for patients with diabetes. The combination of the drugs is considered synergistic by the researchers, while the drug combination is considered antagonistic\n"
          ]
        }
      ]
    }
  ]
}
